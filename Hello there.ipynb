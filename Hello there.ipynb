{
 "cells": [
  {
   "cell_type": "code",
   "execution_count": 4,
   "id": "aa28f3e5",
   "metadata": {},
   "outputs": [
    {
     "name": "stdout",
     "output_type": "stream",
     "text": [
      "masukan bilangan : 9\n",
      "angka fibonaccinya adalah  34\n"
     ]
    }
   ],
   "source": [
    "# program memoization\n",
    "\n",
    "# fungsi untuk penjumlahan angka fibonacci\n",
    "\n",
    "def fib(n, lookup):\n",
    "\n",
    "\tif n <= 1:\n",
    "\t\tlookup[n] = n\n",
    "\n",
    "\tif lookup[n] is None:\n",
    "\t\tlookup[n] = fib(n-1, lookup) + fib(n-2, lookup)\n",
    "\n",
    "\n",
    "\treturn lookup[n]\n",
    "\n",
    "\n",
    "def main():\n",
    "\tn = int(input(\"masukan bilangan : \"))\n",
    "\t# Declaration of lookup table\n",
    "\t# Handles till n = 100 \n",
    "\tlookup = [None] * 101\n",
    "\tprint (f\"angka Fibonaccinya adalah \", fib(int(n), lookup))\n",
    "\n",
    "\n",
    "if __name__ == \"__main__\":\n",
    "\tmain()\n",
    "\n"
   ]
  },
  {
   "cell_type": "code",
   "execution_count": 5,
   "id": "12e7a853",
   "metadata": {},
   "outputs": [
    {
     "name": "stdout",
     "output_type": "stream",
     "text": [
      "masukan bilangan: 8\n",
      "angka Fibonaccinya adalah  21\n"
     ]
    }
   ],
   "source": [
    "# Program tabulation\n",
    "def fib(n):\n",
    "\n",
    "\n",
    "\tf = [0] * (n + 1)\n",
    "\n",
    "\t\n",
    "\tf[1] = 1\n",
    "\n",
    "\n",
    "\tfor i in range(2, n + 1):\n",
    "\t\tf[i] = f[i - 1] + f[i - 2]\n",
    "\treturn f[n]\n",
    "\n",
    "\n",
    "\n",
    "\n",
    "def main():\n",
    "\tn = int(input(\"masukan bilangan: \"))\n",
    "\tprint (f\"angka Fibonaccinya adalah \", fib(int(n)))\n",
    "\n",
    "\n",
    "if __name__ == \"__main__\":\n",
    "\tmain()\n"
   ]
  },
  {
   "cell_type": "code",
   "execution_count": null,
   "id": "a36969ee",
   "metadata": {},
   "outputs": [],
   "source": []
  }
 ],
 "metadata": {
  "kernelspec": {
   "display_name": "Python 3 (ipykernel)",
   "language": "python",
   "name": "python3"
  },
  "language_info": {
   "codemirror_mode": {
    "name": "ipython",
    "version": 3
   },
   "file_extension": ".py",
   "mimetype": "text/x-python",
   "name": "python",
   "nbconvert_exporter": "python",
   "pygments_lexer": "ipython3",
   "version": "3.9.2"
  }
 },
 "nbformat": 4,
 "nbformat_minor": 5
}
